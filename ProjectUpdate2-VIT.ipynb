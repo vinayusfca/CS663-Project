{
 "cells": [
  {
   "cell_type": "markdown",
   "id": "117e34cc-b13f-486a-bad8-119491a98d72",
   "metadata": {},
   "source": [
    "## Desription"
   ]
  },
  {
   "cell_type": "markdown",
   "id": "b62082bc-ba97-4e22-bbdc-38421eadeb86",
   "metadata": {},
   "source": [
    "-  Images are categorized based on the emotion shown in the facial expressions (happiness, neutral, sadness, anger, surprise, disgust, fear).\n",
    "-  We need to design a CNN which will classify images based on followinf facial expression "
   ]
  },
  {
   "cell_type": "code",
   "execution_count": null,
   "id": "b1dacc31-71d8-4aad-9114-b0a2628fad7e",
   "metadata": {},
   "outputs": [],
   "source": [
    "import numpy as np\n",
    "import pandas as pd\n",
    "import os\n",
    "import warnings\n",
    "warnings.filterwarnings('ignore')\n",
    "\n",
    "# defining dir variables \n",
    "root_dir = './data/'\n",
    "train_dir = root_dir + 'train/'\n",
    "test_dir = root_dir + 'test/'"
   ]
  },
  {
   "cell_type": "code",
   "execution_count": null,
   "id": "a66e0e7a-1b78-422b-ab34-bddfa6712dea",
   "metadata": {},
   "outputs": [],
   "source": [
    "target_var = os.listdir(train_dir)\n",
    "target_var"
   ]
  },
  {
   "cell_type": "code",
   "execution_count": null,
   "id": "2d9c70a7-9e2c-4b66-8c0a-6713deba85de",
   "metadata": {},
   "outputs": [],
   "source": [
    "import os\n",
    "import torch\n",
    "from torch.utils.data import DataLoader, Dataset\n",
    "from torchvision import transforms\n",
    "from PIL import Image\n",
    "import warnings\n",
    "from torch import tensor\n",
    "\n",
    "class EmotionDataset(Dataset):\n",
    "    def __init__(self, directory, transform=None):\n",
    "        self.directory = directory\n",
    "        self.transform = transform\n",
    "        self.images = []\n",
    "        self.labels = []\n",
    "        self.label_map = {label: index for index, label in enumerate(sorted(os.listdir(directory)))}\n",
    "        # Load all images and labels\n",
    "        for label in sorted(os.listdir(directory)):\n",
    "            label_path = os.path.join(directory, label)\n",
    "            if os.path.isdir(label_path):\n",
    "                for file in os.listdir(label_path):\n",
    "                    file_path = os.path.join(label_path, file)\n",
    "                    self.images.append(file_path)\n",
    "                    self.labels.append(self.label_map[label])\n",
    "\n",
    "    def __len__(self):\n",
    "        return len(self.images)\n",
    "\n",
    "    def __getitem__(self, idx):\n",
    "        image = Image.open(self.images[idx])\n",
    "        image = image.convert('RGB')  # Convert image to RGB\n",
    "        if self.transform:\n",
    "            image = self.transform(image)\n",
    "        label = self.labels[idx]\n",
    "        return image, tensor(label)\n",
    "\n",
    "# Define transformations\n",
    "transform = transforms.Compose([\n",
    "    transforms.Lambda(lambda x: x.convert('RGB')),  # Ensure images are RGB\n",
    "    transforms.Resize((224, 224)),  # Adjust size to match ViT input\n",
    "    transforms.ToTensor(),\n",
    "    transforms.Normalize(mean=[0.485, 0.456, 0.406], std=[0.229, 0.224, 0.225])\n",
    "])\n",
    "\n",
    "\n",
    "# Create dataset and dataloader\n",
    "train_dataset = EmotionDataset(train_dir, transform=transform)\n",
    "test_dataset = EmotionDataset(test_dir, transform=transform)\n",
    "\n",
    "train_loader = DataLoader(train_dataset, batch_size=32, shuffle=True)\n",
    "test_loader = DataLoader(test_dataset, batch_size=32, shuffle=False)\n"
   ]
  },
  {
   "cell_type": "code",
   "execution_count": null,
   "id": "caf9f211-2f03-4e1b-a3f6-1c823d39726e",
   "metadata": {},
   "outputs": [],
   "source": [
    "from collections import Counter\n",
    "\n",
    "label_map = {index: label for label, index in train_dataset.label_map.items()}\n",
    "\n",
    "# Convert tensor labels to integers before mapping\n",
    "train_labels = [label_map[label.item()] for _, label in train_dataset]\n",
    "test_labels = [label_map[label.item()] for _, label in test_dataset]\n",
    "\n",
    "train_counts = Counter(train_labels)\n",
    "test_counts = Counter(test_labels)"
   ]
  },
  {
   "cell_type": "code",
   "execution_count": null,
   "id": "1b55c241-a8b7-4b8c-8eb5-efbc7bd173d8",
   "metadata": {
    "scrolled": true
   },
   "outputs": [],
   "source": [
    "import matplotlib.pyplot as plt\n",
    "\n",
    "# Plotting\n",
    "fig, ax = plt.subplots(1, 2, figsize=(14, 6))\n",
    "ax[0].bar(train_counts.keys(), train_counts.values())\n",
    "ax[0].set_title('Training Set Class Distribution')\n",
    "ax[0].set_xlabel('Emotion')\n",
    "ax[0].set_ylabel('Count')\n",
    "ax[0].set_xticks(range(len(train_counts)))\n",
    "ax[0].set_xticklabels(list(train_counts.keys()), rotation=45)\n",
    "\n",
    "ax[1].bar(test_counts.keys(), test_counts.values())\n",
    "ax[1].set_title('Testing Set Class Distribution')\n",
    "ax[1].set_xlabel('Emotion')\n",
    "ax[1].set_ylabel('Count')\n",
    "ax[1].set_xticks(range(len(test_counts)))\n",
    "ax[1].set_xticklabels(list(test_counts.keys()), rotation=45)\n",
    "\n",
    "plt.tight_layout()\n",
    "plt.show()\n"
   ]
  },
  {
   "cell_type": "markdown",
   "id": "8db378d8-111a-48d9-a0b4-a8d6a1c5781b",
   "metadata": {},
   "source": [
    "##### Prepare the Model for Training"
   ]
  },
  {
   "cell_type": "code",
   "execution_count": null,
   "id": "6f4dea5f-11be-4637-8671-9cfcae3a3565",
   "metadata": {},
   "outputs": [],
   "source": [
    "import os\n",
    "import torch\n",
    "from torch.optim import AdamW\n",
    "from torch.utils.data import DataLoader\n",
    "from transformers import AdamW\n",
    "from tqdm.auto import tqdm\n",
    "from transformers import ViTForImageClassification, AdamW\n",
    "\n",
    "# Load a pre-trained model\n",
    "model = ViTForImageClassification.from_pretrained('google/vit-base-patch16-224-in21k')\n",
    "num_classes = len([name for name in os.listdir(train_dir) if os.path.isdir(os.path.join(train_dir, name))])\n",
    "\n",
    "# Replace the classifier layer to match the number of classes\n",
    "model.classifier = torch.nn.Linear(model.config.hidden_size, num_classes)\n",
    "\n",
    "# Define the Training Loop\n",
    "device = torch.device(\"cuda\" if torch.cuda.is_available() else \"cpu\")\n",
    "model.to(device)\n",
    "\n",
    "optimizer = AdamW(model.parameters(), lr=5e-5)\n",
    "criterion = torch.nn.CrossEntropyLoss()\n",
    "\n",
    "# training loop\n",
    "def train(model, dataloader, optimizer, criterion, device):\n",
    "    model.train()\n",
    "    total_loss = 0\n",
    "    for batch in tqdm(dataloader, desc=\"Training\"):\n",
    "        images, labels = batch\n",
    "        images = images.to(device)\n",
    "        labels = labels.to(device) if isinstance(labels, torch.Tensor) else torch.tensor(labels).to(device)\n",
    "\n",
    "        # Reset gradients\n",
    "        optimizer.zero_grad()\n",
    "        \n",
    "        # Forward pass\n",
    "        outputs = model(images)\n",
    "        loss = criterion(outputs.logits, labels)\n",
    "        \n",
    "        # Backward pass and optimize\n",
    "        loss.backward()\n",
    "        optimizer.step()\n",
    "\n",
    "        total_loss += loss.item()\n",
    "    \n",
    "    return total_loss / len(dataloader)\n",
    "\n",
    "epochs = 3\n",
    "for epoch in range(epochs):\n",
    "    print(f\"Epoch {epoch+1}/{epochs}\")\n",
    "    loss = train(model, train_loader, optimizer, criterion, device)\n",
    "    print(f\"Training loss: {loss}\")"
   ]
  },
  {
   "cell_type": "markdown",
   "id": "cbb9c03c-7806-446c-b013-01f04c99985c",
   "metadata": {},
   "source": [
    "##### EDA"
   ]
  },
  {
   "cell_type": "code",
   "execution_count": null,
   "id": "8873197c-b852-40d9-afc3-d09e6f66db37",
   "metadata": {},
   "outputs": [],
   "source": [
    "def evaluate(model, dataloader):\n",
    "    model.eval()\n",
    "    total_correct = 0\n",
    "    total_images = 0\n",
    "    with torch.no_grad():\n",
    "        for images, labels in dataloader:\n",
    "            images = images.to(device)\n",
    "            outputs = model(images)\n",
    "            _, predicted = torch.max(outputs.logits, 1)\n",
    "            total_correct += (predicted == labels.to(device)).sum().item()\n",
    "            total_images += labels.size(0)\n",
    "    accuracy = total_correct / total_images\n",
    "    return accuracy\n",
    "\n",
    "accuracy = evaluate(model, test_loader)\n",
    "print(f'Test Accuracy: {accuracy}')"
   ]
  },
  {
   "cell_type": "markdown",
   "id": "c086ea41-1253-4a34-b5b5-a6e47fe4ae65",
   "metadata": {},
   "source": [
    "Emotion : happy\n",
    "\tTraining : 7215 - 3270 are male, 3945 are female\n",
    "\t Testing : 1774 - 835 are male, 939 are female\n",
    "Emotion : sad\n",
    "\tTraining : 4830 - 2530 are male, 2300 are female\n",
    "\t Testing : 1247 - 666 are male, 581 are female\n",
    "Emotion : fearful\n",
    "\tTraining : 4097 - 2071 are male, 2026 are female\n",
    "\t Testing : 1024 - 499 are male, 525 are female\n",
    "Emotion : neutral\n",
    "\tTraining : 4965 - 3007 are male, 1958 are female\n",
    "\t Testing : 1233 -  743 are male, 490 are female\n",
    "Emotion : angry\n",
    "\tTraining : 3995 - 2818 are male, 1177 are female\n",
    "\t Testing : 958 - 662 are male, 296 are female\n",
    "Emotion : disgusted\n",
    "\tTraining : 436 - 246 are male, 190 are female\n",
    "\t Testing : 111 - 77 are male, 34 are female\n",
    "Emotion : surprised\n",
    "\tTraining : 3171 - 1576 are male, 1595 are female\n",
    "\t Testing : 831 - 446 are male, 385 are female"
   ]
  },
  {
   "cell_type": "code",
   "execution_count": null,
   "id": "d531e2de-020e-439d-8266-fbaeab64556f",
   "metadata": {},
   "outputs": [],
   "source": []
  },
  {
   "cell_type": "code",
   "execution_count": null,
   "id": "a8870834-64e3-4ee0-9f35-d6cc0fae1a1b",
   "metadata": {},
   "outputs": [],
   "source": []
  }
 ],
 "metadata": {
  "kernelspec": {
   "display_name": "Python 3 (ipykernel)",
   "language": "python",
   "name": "python3"
  },
  "language_info": {
   "codemirror_mode": {
    "name": "ipython",
    "version": 3
   },
   "file_extension": ".py",
   "mimetype": "text/x-python",
   "name": "python",
   "nbconvert_exporter": "python",
   "pygments_lexer": "ipython3",
   "version": "3.11.5"
  }
 },
 "nbformat": 4,
 "nbformat_minor": 5
}
